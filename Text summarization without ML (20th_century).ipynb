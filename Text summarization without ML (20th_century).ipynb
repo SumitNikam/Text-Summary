{
 "cells": [
  {
   "cell_type": "code",
   "execution_count": 1,
   "metadata": {},
   "outputs": [],
   "source": [
    "import pandas as pd\n",
    "import numpy as np\n",
    "import bs4 as BeautifulSoup\n",
    "import urllib.request\n",
    "from nltk.tokenize import word_tokenize, sent_tokenize\n",
    "from nltk.corpus import stopwords\n",
    "from nltk.stem import PorterStemmer\n",
    "import re"
   ]
  },
  {
   "cell_type": "code",
   "execution_count": null,
   "metadata": {},
   "outputs": [],
   "source": [
    "data=urllib.request.urlopen('https://en.wikipedia.org/wiki/20th_century')"
   ]
  },
  {
   "cell_type": "code",
   "execution_count": null,
   "metadata": {},
   "outputs": [],
   "source": [
    "read=data.read()"
   ]
  },
  {
   "cell_type": "code",
   "execution_count": null,
   "metadata": {},
   "outputs": [],
   "source": [
    "article_parsed = BeautifulSoup.BeautifulSoup(read,'html.parser')"
   ]
  },
  {
   "cell_type": "code",
   "execution_count": null,
   "metadata": {},
   "outputs": [],
   "source": [
    "paragraphs = article_parsed.find_all('p')"
   ]
  },
  {
   "cell_type": "code",
   "execution_count": null,
   "metadata": {},
   "outputs": [],
   "source": [
    "article_content = ''"
   ]
  },
  {
   "cell_type": "code",
   "execution_count": null,
   "metadata": {},
   "outputs": [],
   "source": [
    "for p in paragraphs:  \n",
    "    article_content += p.text"
   ]
  },
  {
   "cell_type": "code",
   "execution_count": 2,
   "metadata": {},
   "outputs": [],
   "source": [
    "article_content =\"\"\"Machine learning (ML) is the scientific study of algorithms and statistical models that computer systems use to progressively improve their performance on a specific task. Machine learning algorithms build a mathematical model of sample data, known as \"training data\", in order to make predictions or decisions without being explicitly programmed to perform the task. Machine learning algorithms are used in the applications of email filtering, detection of network intruders, and computer vision, where it is infeasible to develop an algorithm of specific instructions for performing the task. Machine learning is closely related to computational statistics, which focuses on making predictions using computers. The study of mathematical optimization delivers methods, theory and application domains to the field of machine learning. Data mining is a field of study within machine learning, and focuses on exploratory data analysis through unsupervised learning.In its application across business problems, machine learning is also referred to as predictive analytics.\"\"\""
   ]
  },
  {
   "cell_type": "code",
   "execution_count": 3,
   "metadata": {},
   "outputs": [],
   "source": [
    "Real_data = article_content"
   ]
  },
  {
   "cell_type": "code",
   "execution_count": 4,
   "metadata": {},
   "outputs": [],
   "source": [
    "def creat_dictionary(text) -> dict:\n",
    "    # Removing stopwords\n",
    "    stop_words=set(stopwords.words(\"english\"))\n",
    "    words=word_tokenize(text)\n",
    "    \n",
    "    # Reducing words to their root form\n",
    "    stem=PorterStemmer()\n",
    "    \n",
    "    # Creating dictionary for the word frequency table\n",
    "    frequency_table= dict()\n",
    "    for i in words:\n",
    "        i=stem.stem(i)\n",
    "        if i in stop_words:\n",
    "            continue\n",
    "        if i in frequency_table:\n",
    "            frequency_table[i]+=1\n",
    "        else:\n",
    "            frequency_table[i]=1\n",
    "    return frequency_table"
   ]
  },
  {
   "cell_type": "code",
   "execution_count": 5,
   "metadata": {},
   "outputs": [],
   "source": [
    "def calculate_sentence_scores(sentences, frequency_table) -> dict :\n",
    "    sentence_wt = dict()\n",
    "    for sentence in sentences:\n",
    "        sentence_word_count = (len(word_tokenize(sentence)))\n",
    "        sentence_word_count_without_stop_words=0\n",
    "        for word_wt in frequency_table:\n",
    "            if word_wt in sentence.lower():\n",
    "                sentence_word_count_without_stop_words += 1\n",
    "                if sentence[:7] in sentence_wt :\n",
    "                    sentence_wt[sentence[:7]] += frequency_table[word_wt]\n",
    "                else :\n",
    "                    sentence_wt[sentence[:7]] = frequency_table[word_wt]\n",
    "                    \n",
    "        sentence_wt[sentence[:7]] = sentence_wt[sentence[:7]] / sentence_word_count_without_stop_words\n",
    "        \n",
    "    return sentence_wt"
   ]
  },
  {
   "cell_type": "code",
   "execution_count": 6,
   "metadata": {},
   "outputs": [],
   "source": [
    "def calculate_average_score(sentence_wt) -> int:\n",
    "    sum_values = 0\n",
    "    for entry in sentence_wt:\n",
    "        sum_values+= sentence_wt[entry]\n",
    "    average_score = (sum_values / len(sentence_wt))\n",
    "    return average_score"
   ]
  },
  {
   "cell_type": "code",
   "execution_count": 7,
   "metadata": {},
   "outputs": [],
   "source": [
    "def get_article_summary(sentences, sentence_wt,threshold):\n",
    "    sentence_counter=0\n",
    "    article_summary=''\n",
    "    \n",
    "    for sentence in sentences:\n",
    "        if sentence[:7] in sentence_wt and sentence_wt[sentence[:7]] >= (threshold) :\n",
    "            article_summary += \" \" + sentence\n",
    "            sentence_counter += 1\n",
    "            \n",
    "    return article_summary"
   ]
  },
  {
   "cell_type": "code",
   "execution_count": 14,
   "metadata": {},
   "outputs": [],
   "source": [
    "def run_article_summary(article):\n",
    "    frequency_table = creat_dictionary(article)\n",
    "    sentences = sent_tokenize(article)\n",
    "    sentence_scores = calculate_sentence_scores(sentences, frequency_table)\n",
    "    threshold = calculate_average_score(sentence_scores)\n",
    "    article_summary = get_article_summary(sentences, sentence_scores, 1.5*threshold)\n",
    "    return article_summary"
   ]
  },
  {
   "cell_type": "code",
   "execution_count": 15,
   "metadata": {},
   "outputs": [
    {
     "data": {
      "text/plain": [
       "'Machine learning (ML) is the scientific study of algorithms and statistical models that computer systems use to progressively improve their performance on a specific task. Machine learning algorithms build a mathematical model of sample data, known as \"training data\", in order to make predictions or decisions without being explicitly programmed to perform the task. Machine learning algorithms are used in the applications of email filtering, detection of network intruders, and computer vision, where it is infeasible to develop an algorithm of specific instructions for performing the task. Machine learning is closely related to computational statistics, which focuses on making predictions using computers. The study of mathematical optimization delivers methods, theory and application domains to the field of machine learning. Data mining is a field of study within machine learning, and focuses on exploratory data analysis through unsupervised learning.In its application across business problems, machine learning is also referred to as predictive analytics.'"
      ]
     },
     "execution_count": 15,
     "metadata": {},
     "output_type": "execute_result"
    }
   ],
   "source": [
    "Real_data = article_content\n",
    "Real_data"
   ]
  },
  {
   "cell_type": "code",
   "execution_count": 16,
   "metadata": {},
   "outputs": [
    {
     "name": "stdout",
     "output_type": "stream",
     "text": [
      "\n"
     ]
    }
   ],
   "source": [
    "if __name__ == '__main__':\n",
    "    summary_results = run_article_summary(article_content)\n",
    "    print(summary_results)"
   ]
  },
  {
   "cell_type": "code",
   "execution_count": null,
   "metadata": {},
   "outputs": [],
   "source": [
    "if __name__ == '__main__':\n",
    "    summary_results = run_article_summary(document1)\n",
    "    print(summary_results)"
   ]
  },
  {
   "cell_type": "code",
   "execution_count": null,
   "metadata": {},
   "outputs": [],
   "source": []
  }
 ],
 "metadata": {
  "kernelspec": {
   "display_name": "Python 3",
   "language": "python",
   "name": "python3"
  },
  "language_info": {
   "codemirror_mode": {
    "name": "ipython",
    "version": 3
   },
   "file_extension": ".py",
   "mimetype": "text/x-python",
   "name": "python",
   "nbconvert_exporter": "python",
   "pygments_lexer": "ipython3",
   "version": "3.7.3"
  }
 },
 "nbformat": 4,
 "nbformat_minor": 2
}
